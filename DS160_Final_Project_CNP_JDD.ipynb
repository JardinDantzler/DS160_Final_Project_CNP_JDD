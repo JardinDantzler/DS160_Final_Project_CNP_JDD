{
 "cells": [
  {
   "cell_type": "markdown",
   "id": "f24a49fc-c63f-442f-8899-71d48818e74c",
   "metadata": {},
   "source": [
    "<h1>Table of Contents<span class=\"tocSkip\"></span></h1>\n",
    "<div class=\"toc\"><ul class=\"toc-item\"><li><span><a href=\"#Introduction\" data-toc-modified-id=\"Introduction-1\"><span class=\"toc-item-num\">1&nbsp;&nbsp;</span>Introduction</a></span><ul class=\"toc-item\"><li><span><a href=\"#Project-goals-and-scoping\" data-toc-modified-id=\"Project-goals-and-scoping-1.1\"><span class=\"toc-item-num\">1.1&nbsp;&nbsp;</span>Project goals and scoping</a></span></li><li><span><a href=\"#Data\" data-toc-modified-id=\"Data-1.2\"><span class=\"toc-item-num\">1.2&nbsp;&nbsp;</span>Data</a></span></li><li><span><a href=\"#Analysis\" data-toc-modified-id=\"Analysis-1.3\"><span class=\"toc-item-num\">1.3&nbsp;&nbsp;</span>Analysis</a></span></li><li><span><a href=\"#Evaluation\" data-toc-modified-id=\"Evaluation-1.4\"><span class=\"toc-item-num\">1.4&nbsp;&nbsp;</span>Evaluation</a></span></li></ul></li><li><span><a href=\"#Import-python-modules\" data-toc-modified-id=\"Import-python-modules-2\"><span class=\"toc-item-num\">2&nbsp;&nbsp;</span>Import python modules</a></span></li><li><span><a href=\"#Load-the-data\" data-toc-modified-id=\"Load-the-data-3\"><span class=\"toc-item-num\">3&nbsp;&nbsp;</span>Load the data</a></span></li><li><span><a href=\"#Exploratory-data-analysis\" data-toc-modified-id=\"Exploratory-data-analysis-4\"><span class=\"toc-item-num\">4&nbsp;&nbsp;</span>Exploratory data analysis</a></span><ul class=\"toc-item\"><li><span><a href=\"#Check-for-missing-values\" data-toc-modified-id=\"Check-for-missing-values-4.1\"><span class=\"toc-item-num\">4.1&nbsp;&nbsp;</span>Check for missing values</a></span></li><li><span><a href=\"#Distribution-of-features\" data-toc-modified-id=\"Distribution-of-features-4.2\"><span class=\"toc-item-num\">4.2&nbsp;&nbsp;</span>Distribution of features</a></span><ul class=\"toc-item\"><li><span><a href=\"#Elevation\" data-toc-modified-id=\"Elevation-4.2.1\"><span class=\"toc-item-num\">4.2.1&nbsp;&nbsp;</span><code>Elevation</code></a></span></li><li><span><a href=\"#Aspect\" data-toc-modified-id=\"Aspect-4.2.2\"><span class=\"toc-item-num\">4.2.2&nbsp;&nbsp;</span><code>Aspect</code></a></span></li><li><span><a href=\"#Slope\" data-toc-modified-id=\"Slope-4.2.3\"><span class=\"toc-item-num\">4.2.3&nbsp;&nbsp;</span><code>Slope</code></a></span></li><li><span><a href=\"#Horizontal_Distance_To_Hydrology\" data-toc-modified-id=\"Horizontal_Distance_To_Hydrology-4.2.4\"><span class=\"toc-item-num\">4.2.4&nbsp;&nbsp;</span><code>Horizontal_Distance_To_Hydrology</code></a></span></li><li><span><a href=\"#Vertical_Distance_To_Hydrology\" data-toc-modified-id=\"Vertical_Distance_To_Hydrology-4.2.5\"><span class=\"toc-item-num\">4.2.5&nbsp;&nbsp;</span><code>Vertical_Distance_To_Hydrology</code></a></span></li><li><span><a href=\"#Horizontal_Distance_To_Roadways\" data-toc-modified-id=\"Horizontal_Distance_To_Roadways-4.2.6\"><span class=\"toc-item-num\">4.2.6&nbsp;&nbsp;</span><code>Horizontal_Distance_To_Roadways</code></a></span></li><li><span><a href=\"#Hillshade_9am\" data-toc-modified-id=\"Hillshade_9am-4.2.7\"><span class=\"toc-item-num\">4.2.7&nbsp;&nbsp;</span><code>Hillshade_9am</code></a></span></li><li><span><a href=\"#Hillshade_Noon\" data-toc-modified-id=\"Hillshade_Noon-4.2.8\"><span class=\"toc-item-num\">4.2.8&nbsp;&nbsp;</span><code>Hillshade_Noon</code></a></span></li><li><span><a href=\"#Hillshade_3pm\" data-toc-modified-id=\"Hillshade_3pm-4.2.9\"><span class=\"toc-item-num\">4.2.9&nbsp;&nbsp;</span><code>Hillshade_3pm</code></a></span></li><li><span><a href=\"#Horizontal_Distance_To_Fire_Points\" data-toc-modified-id=\"Horizontal_Distance_To_Fire_Points-4.2.10\"><span class=\"toc-item-num\">4.2.10&nbsp;&nbsp;</span><code>Horizontal_Distance_To_Fire_Points</code></a></span></li><li><span><a href=\"#Wilderness-Area\" data-toc-modified-id=\"Wilderness-Area-4.2.11\"><span class=\"toc-item-num\">4.2.11&nbsp;&nbsp;</span>Wilderness Area</a></span></li><li><span><a href=\"#Soil-Type\" data-toc-modified-id=\"Soil-Type-4.2.12\"><span class=\"toc-item-num\">4.2.12&nbsp;&nbsp;</span>Soil Type</a></span></li></ul></li></ul></li><li><span><a href=\"#Data-preprocessing\" data-toc-modified-id=\"Data-preprocessing-5\"><span class=\"toc-item-num\">5&nbsp;&nbsp;</span>Data preprocessing</a></span><ul class=\"toc-item\"><li><span><a href=\"#Min-Max-Normalization\" data-toc-modified-id=\"Min-Max-Normalization-5.1\"><span class=\"toc-item-num\">5.1&nbsp;&nbsp;</span>Min-Max Normalization</a></span></li><li><span><a href=\"#Split-the-data-into-training-and-validation-sets\" data-toc-modified-id=\"Split-the-data-into-training-and-validation-sets-5.2\"><span class=\"toc-item-num\">5.2&nbsp;&nbsp;</span>Split the data into training and validation sets</a></span><ul class=\"toc-item\"><li><span><a href=\"#Check-response-label-imbalance\" data-toc-modified-id=\"Check-response-label-imbalance-5.2.1\"><span class=\"toc-item-num\">5.2.1&nbsp;&nbsp;</span>Check response label imbalance</a></span></li><li><span><a href=\"#Split-the-data\" data-toc-modified-id=\"Split-the-data-5.2.2\"><span class=\"toc-item-num\">5.2.2&nbsp;&nbsp;</span>Split the data</a></span></li></ul></li></ul></li><li><span><a href=\"#Cover_Type-prediction\" data-toc-modified-id=\"Cover_Type-prediction-6\"><span class=\"toc-item-num\">6&nbsp;&nbsp;</span><code>Cover_Type</code> prediction</a></span><ul class=\"toc-item\"><li><span><a href=\"#Evaluation-metrics\" data-toc-modified-id=\"Evaluation-metrics-6.1\"><span class=\"toc-item-num\">6.1&nbsp;&nbsp;</span>Evaluation metrics</a></span></li><li><span><a href=\"#Prediction:-K-Nearest-Neighbors\" data-toc-modified-id=\"Prediction:-K-Nearest-Neighbors-6.2\"><span class=\"toc-item-num\">6.2&nbsp;&nbsp;</span>Prediction: K-Nearest-Neighbors</a></span></li><li><span><a href=\"#Prediction:-Decision-Trees\" data-toc-modified-id=\"Prediction:-Decision-Trees-6.3\"><span class=\"toc-item-num\">6.3&nbsp;&nbsp;</span>Prediction: Decision Trees</a></span></li></ul></li><li><span><a href=\"#Conclusions\" data-toc-modified-id=\"Conclusions-7\"><span class=\"toc-item-num\">7&nbsp;&nbsp;</span>Conclusions</a></span></li></ul></div>"
   ]
  },
  {
   "cell_type": "markdown",
   "id": "8a9daa11-547f-4b31-a474-e0fe2edd0941",
   "metadata": {},
   "source": [
    "# Forest Cover Type Classification (Machine Learning edition)"
   ]
  },
  {
   "cell_type": "markdown",
   "id": "3d79204a-fd01-4578-a92e-d050429261cb",
   "metadata": {},
   "source": [
    "## Introduction \n",
    "\n",
    "In this portfolio project, we will use the main data that will be used is obtained from UCI at: https://archive.ics.uci.edu/ml/datasets/covertype\n",
    "\n",
    "As well as information and data obtained from Kaggle to properly categorize our dataset's attributes at : https://www.kaggle.com/c/forest-cover-type-prediction\n",
    "\n",
    "\n",
    "\n",
    "\n",
    "\n",
    "\n",
    "We will be fixing and analyzing the classification of the forest cover type from the given data. To do this, we will employ various machine learning algorithms after conducting an exploratory analysis.\n",
    "\n",
    "### Data\n",
    "\n",
    "The data obtained from _Kaggle_ is contained in the directory `/kaggle_data_download/forest-cover-type-prediction/`. There we can find several spreadsheets. The file `train.csv` contains the data that will be used to pull the attributes from that dataset and then tied to the UCI dataset\n",
    "\n",
    "From the _Data_ section of the competition homepage, we have the following description of the data, reproduced below:\n",
    "\n",
    " - `Elevation` - Elevation in meters\n",
    " - `Aspect` - Aspect in degrees azimuth\n",
    " - `Slope` - Slope in degrees\n",
    " - `Horizontal_Distance_To_Hydrology` - Horz Dist to nearest surface water features\n",
    " - `Vertical_Distance_To_Hydrology` - Vert Dist to nearest surface water features\n",
    " - `Horizontal_Distance_To_Roadways` - Horz Dist to nearest roadway\n",
    " - `Hillshade_9am` - (0 to 255 index) - Hillshade index at 9am, summer solstice\n",
    " - `Hillshade_Noon` - (0 to 255 index) - Hillshade index at noon, summer solstice\n",
    " - `Hillshade_3pm` - (0 to 255 index) - Hillshade index at 3pm, summer solstice\n",
    " - `Horizontal_Distance_To_Fire_Points` - Horz Dist to nearest wildfire ignition points\n",
    " - `Wilderness_Area` - (4 binary columns, 0 = absence or 1 = presence) - Wilderness area designation\n",
    " - `Soil_Type` - (40 binary columns, 0 = absence or 1 = presence) - Soil Type designation\n",
    " - `Cover_Type` - (7 types, integers 1 to 7) - Forest Cover Type designation\n",
    "\n",
    "The `Cover_Type` is the response variable representing the type of forest cover. The seven values represent\n",
    " - `1` - Spruce/Fir\n",
    " - `2` - Lodgepole Pine\n",
    " - `3` - Ponderosa Pine\n",
    " - `4` - Cottonwood/Willow\n",
    " - `5` - Aspen\n",
    " - `6` - Douglas-fir\n",
    " - `7` - Krummholz\n",
    " \n",
    "The `Wilderness_Area` feature corresponds to which of the four wilderness areas located in the Roosevelt National Forest of northern Colorado that were included in the data. They are\n",
    "\n",
    " - `1` - Rawah Wilderness Area\n",
    " - `2` - Neota Wilderness Area\n",
    " - `3` - Comanche Peak Wilderness Area\n",
    " - `4` - Cache la Poudre Wilderness Area\n",
    " \n",
    "The `Soil_Type` feature corresponds to the classification of the soil in the section of forest. There are forty numbered binary features corresponding to different soil types:\n",
    "\n",
    " - `1` - Cathedral family - Rock outcrop complex, extremely stony.\n",
    " - `2` - Vanet - Ratake families complex, very stony.\n",
    " - `3` - Haploborolis - Rock outcrop complex, rubbly.\n",
    " - `4` - Ratake family - Rock outcrop complex, rubbly.\n",
    " - `5` - Vanet family - Rock outcrop complex complex, rubbly.\n",
    " - `6` - Vanet - Wetmore families - Rock outcrop complex, stony.\n",
    " - `7` - Gothic family.\n",
    " - `8` - Supervisor - Limber families complex.\n",
    " - `9` - Troutville family, very stony.\n",
    " - `10` - Bullwark - Catamount families - Rock outcrop complex, rubbly.\n",
    " - `11` - Bullwark - Catamount families - Rock land complex, rubbly.\n",
    " - `12` - Legault family - Rock land complex, stony.\n",
    " - `13` - Catamount family - Rock land - Bullwark family complex, rubbly.\n",
    " - `14` - Pachic Argiborolis - Aquolis complex.\n",
    " - `15` - unspecified in the USFS Soil and ELU Survey.\n",
    " - `16` - Cryaquolis - Cryoborolis complex.\n",
    " - `17` - Gateview family - Cryaquolis complex.\n",
    " - `18` - Rogert family, very stony.\n",
    " - `19` - Typic Cryaquolis - Borohemists complex.\n",
    " - `20` - Typic Cryaquepts - Typic Cryaquolls complex.\n",
    " - `21` - Typic Cryaquolls - Leighcan family, till substratum complex.\n",
    " - `22` - Leighcan family, till substratum, extremely bouldery.\n",
    " - `23` - Leighcan family, till substratum - Typic Cryaquolls complex.\n",
    " - `24` - Leighcan family, extremely stony.\n",
    " - `25` - Leighcan family, warm, extremely stony.\n",
    " - `26` - Granile - Catamount families complex, very stony.\n",
    " - `27` - Leighcan family, warm - Rock outcrop complex, extremely stony.\n",
    " - `28` - Leighcan family - Rock outcrop complex, extremely stony.\n",
    " - `29` - Como - Legault families complex, extremely stony.\n",
    " - `30` - Como family - Rock land - Legault family complex, extremely stony.\n",
    " - `31` - Leighcan - Catamount families complex, extremely stony.\n",
    " - `32` - Catamount family - Rock outcrop - Leighcan family complex, extremely stony.\n",
    " - `33` - Leighcan - Catamount families - Rock outcrop complex, extremely stony.\n",
    " - `34` - Cryorthents - Rock land complex, extremely stony.\n",
    " - `35` - Cryumbrepts - Rock outcrop - Cryaquepts complex.\n",
    " - `36` - Bross family - Rock land - Cryumbrepts complex, extremely stony.\n",
    " - `37` - Rock outcrop - Cryumbrepts - Cryorthents complex, extremely stony.\n",
    " - `38` - Leighcan - Moran families - Cryaquolls complex, extremely stony.\n",
    " - `39` - Moran family - Cryorthents - Leighcan family complex, extremely stony.\n",
    " - `40` - Moran family - Cryorthents - Rock land complex, extremely stony.\n",
    "\n",
    "### Analysis\n",
    "\n",
    "We will conduct some exploratory data analysis to try to gain some insight into the data provided by _Kaggle_ along with our initial set from UCI. Then, we will employ different machine learning algorithms to try to figure out the classification of  the `Cover_Type` feature. Since we don't have the labels of the data in the `covtype.data` file, as stated earlier we will pull the header from the Kaggle data folder.\n",
    "\n",
    "### Evaluation\n",
    "\n",
    "To evaluate the performance of our classification models, we will split our data into training and testing/validation subsets. We can use several statistics to judge how well our models predict the testing data by examining confusion matrices, accuracy, precision, recall, and F1 scores.\n",
    "\n",
    "\n"
   ]
  },
  {
   "cell_type": "markdown",
   "id": "fb632d9f-860e-402c-8968-857ba35f982e",
   "metadata": {},
   "source": [
    "## Import python modules"
   ]
  },
  {
   "cell_type": "markdown",
   "id": "c32a2902-38b1-4d74-9c38-e6c59f3e780d",
   "metadata": {},
   "source": [
    "The data is stored in the file `covtype.data` and `train.csv`. We can import them into a `pandas` `DataFrame` object for analysis. We will also make use of the numerical methods module `numpy` and the data visualization libraries `matplotlib` and `seaborn`. For machine learning, we will use `sklearn`. Let's import all of the former modules now. We will import specific machine learning modules from `sklearn` when we begin the analysis."
   ]
  },
  {
   "cell_type": "code",
   "execution_count": 170,
   "id": "31a922be-0053-474e-b3f7-23bdf348c8e7",
   "metadata": {},
   "outputs": [],
   "source": [
    "import pandas as pd\n",
    "import numpy as np\n",
    "import matplotlib.pyplot as plt\n",
    "import seaborn as sns\n",
    "\n",
    "# Use inline backend for matplotlib\n",
    "%matplotlib inline\n",
    "# Set standard plot figure size\n",
    "plt.rcParams['figure.figsize'] = [10, 10/1.618]\n",
    "\n",
    "# Filter unnecessary warnins\n",
    "import warnings\n",
    "warnings.filterwarnings('ignore')\n",
    "\n",
    "# show unlimited columns\n",
    "pd.set_option('display.max_columns', None)"
   ]
  },
  {
   "cell_type": "markdown",
   "id": "4583bc47-e041-4f3b-a606-17483fa0ee32",
   "metadata": {},
   "source": [
    "## Load the data"
   ]
  },
  {
   "cell_type": "markdown",
   "id": "cd9b1e03-f5fb-437d-aba3-6d091a90b0f1",
   "metadata": {},
   "source": [
    "Let's import our data into a `pandas` `DataFrame` object. Each row represents an individual square of forest. The columns are described in the introduction."
   ]
  },
  {
   "cell_type": "code",
   "execution_count": 171,
   "id": "a534b426-5205-4a9c-b92a-4d21efd5a728",
   "metadata": {},
   "outputs": [],
   "source": [
    "pull_from_kaggle = pd.read_csv('kaggle_data_download/forest-cover-type-prediction/train.csv')\n"
   ]
  },
  {
   "cell_type": "markdown",
   "id": "f95b768c-8ab2-4e81-8296-27e5e5522c7d",
   "metadata": {},
   "source": [
    "## Exploratory data analysis"
   ]
  },
  {
   "cell_type": "markdown",
   "id": "dd2699b1-1891-428d-b640-19430b90f324",
   "metadata": {},
   "source": [
    "Let's examine the columns of our dataframe to verify they align with _Kaggle_'s description for the attributes."
   ]
  },
  {
   "cell_type": "code",
   "execution_count": 172,
   "id": "e20ec4c4-942b-4053-b8cc-7a1ff05be698",
   "metadata": {},
   "outputs": [
    {
     "name": "stdout",
     "output_type": "stream",
     "text": [
      "Index(['Id', 'Elevation', 'Aspect', 'Slope',\n",
      "       'Horizontal_Distance_To_Hydrology', 'Vertical_Distance_To_Hydrology',\n",
      "       'Horizontal_Distance_To_Roadways', 'Hillshade_9am', 'Hillshade_Noon',\n",
      "       'Hillshade_3pm', 'Horizontal_Distance_To_Fire_Points',\n",
      "       'Wilderness_Area1', 'Wilderness_Area2', 'Wilderness_Area3',\n",
      "       'Wilderness_Area4', 'Soil_Type1', 'Soil_Type2', 'Soil_Type3',\n",
      "       'Soil_Type4', 'Soil_Type5', 'Soil_Type6', 'Soil_Type7', 'Soil_Type8',\n",
      "       'Soil_Type9', 'Soil_Type10', 'Soil_Type11', 'Soil_Type12',\n",
      "       'Soil_Type13', 'Soil_Type14', 'Soil_Type15', 'Soil_Type16',\n",
      "       'Soil_Type17', 'Soil_Type18', 'Soil_Type19', 'Soil_Type20',\n",
      "       'Soil_Type21', 'Soil_Type22', 'Soil_Type23', 'Soil_Type24',\n",
      "       'Soil_Type25', 'Soil_Type26', 'Soil_Type27', 'Soil_Type28',\n",
      "       'Soil_Type29', 'Soil_Type30', 'Soil_Type31', 'Soil_Type32',\n",
      "       'Soil_Type33', 'Soil_Type34', 'Soil_Type35', 'Soil_Type36',\n",
      "       'Soil_Type37', 'Soil_Type38', 'Soil_Type39', 'Soil_Type40',\n",
      "       'Cover_Type'],\n",
      "      dtype='object')\n",
      "(15120, 56)\n"
     ]
    }
   ],
   "source": [
    "print(pull_from_kaggle.columns)\n",
    "print(pull_from_kaggle.shape)"
   ]
  },
  {
   "cell_type": "markdown",
   "id": "693afa5d-bb58-4bd5-9385-f2476361febf",
   "metadata": {},
   "source": [
    "Let's examine the columns of our dataframe to verify they align with _Kaggle_'s description as our attributes. Then we can add them as headers for the UCI data and just use that datset going forward."
   ]
  },
  {
   "cell_type": "code",
   "execution_count": 173,
   "id": "7d173adf-1ee9-4ec5-85a9-31686d1911dc",
   "metadata": {},
   "outputs": [],
   "source": [
    "forests = pd.read_csv('./UCI_Data/covtype.data', header = None)"
   ]
  },
  {
   "cell_type": "markdown",
   "id": "6ca270c2-a9f8-4209-9da8-66588c17b277",
   "metadata": {},
   "source": [
    "The dataset has 55 columns with 581K records. The dataset does not come with headers. We will have to create headers based on what we've recieved from Kaggle Data"
   ]
  },
  {
   "cell_type": "code",
   "execution_count": 174,
   "id": "f28309b0-836e-406a-a75c-12e8928be031",
   "metadata": {},
   "outputs": [],
   "source": [
    "# initialize empty list\n",
    "columns_list=[]\n",
    "columns_list = [ 'elevation',\n",
    "                  'aspect',\n",
    "                  'slope',\n",
    "                  'horizontal_distance_to_hydrology',\n",
    "                  'vertical_distance_to_hydrology',\n",
    "                  'horizontal_distance_to_roadways',\n",
    "                  'hillshade_9mm',\n",
    "                  'hillshade_noon',\n",
    "                  'hillshade_3pm',\n",
    "                  'horizontal_distance_to_fire_points',\n",
    "                  \n",
    "]\n",
    "\n",
    "# append wilderness area column names\n",
    "columns_list.extend([ str('wilderness_area_'+str(i+1)) for i in range(4) ])\n",
    "\n",
    "# apend soil type column name\n",
    "columns_list.extend([ str('soil_type'+str(i+1)) for i in range(40) ])\n",
    "\n",
    "# apend cover_type\n",
    "columns_list.append('cover_type')"
   ]
  },
  {
   "cell_type": "code",
   "execution_count": 175,
   "id": "cb4acd2e-738e-4b4e-9e6c-227d9a6e1a0c",
   "metadata": {},
   "outputs": [
    {
     "data": {
      "text/plain": [
       "55"
      ]
     },
     "execution_count": 175,
     "metadata": {},
     "output_type": "execute_result"
    }
   ],
   "source": [
    "len(columns_list)"
   ]
  },
  {
   "cell_type": "code",
   "execution_count": 176,
   "id": "e78aeb5b-cd21-4b75-9e12-f562adddb770",
   "metadata": {},
   "outputs": [],
   "source": [
    "# give column names to the raw_df\n",
    "forests.columns = columns_list"
   ]
  },
  {
   "cell_type": "code",
   "execution_count": 134,
   "id": "e3bd239b-684a-4736-9375-6c941dcce5da",
   "metadata": {},
   "outputs": [
    {
     "data": {
      "text/html": [
       "<div>\n",
       "<style scoped>\n",
       "    .dataframe tbody tr th:only-of-type {\n",
       "        vertical-align: middle;\n",
       "    }\n",
       "\n",
       "    .dataframe tbody tr th {\n",
       "        vertical-align: top;\n",
       "    }\n",
       "\n",
       "    .dataframe thead th {\n",
       "        text-align: right;\n",
       "    }\n",
       "</style>\n",
       "<table border=\"1\" class=\"dataframe\">\n",
       "  <thead>\n",
       "    <tr style=\"text-align: right;\">\n",
       "      <th></th>\n",
       "      <th>Id</th>\n",
       "      <th>Elevation</th>\n",
       "      <th>Aspect</th>\n",
       "      <th>Slope</th>\n",
       "      <th>Horizontal_Distance_To_Hydrology</th>\n",
       "      <th>Vertical_Distance_To_Hydrology</th>\n",
       "      <th>Horizontal_Distance_To_Roadways</th>\n",
       "      <th>Hillshade_9am</th>\n",
       "      <th>Hillshade_Noon</th>\n",
       "      <th>Hillshade_3pm</th>\n",
       "      <th>Horizontal_Distance_To_Fire_Points</th>\n",
       "      <th>Wilderness_Area1</th>\n",
       "      <th>Wilderness_Area2</th>\n",
       "      <th>Wilderness_Area3</th>\n",
       "      <th>Wilderness_Area4</th>\n",
       "      <th>Soil_Type1</th>\n",
       "      <th>Soil_Type2</th>\n",
       "      <th>Soil_Type3</th>\n",
       "      <th>Soil_Type4</th>\n",
       "      <th>Soil_Type5</th>\n",
       "      <th>Soil_Type6</th>\n",
       "      <th>Soil_Type7</th>\n",
       "      <th>Soil_Type8</th>\n",
       "      <th>Soil_Type9</th>\n",
       "      <th>Soil_Type10</th>\n",
       "      <th>Soil_Type11</th>\n",
       "      <th>Soil_Type12</th>\n",
       "      <th>Soil_Type13</th>\n",
       "      <th>Soil_Type14</th>\n",
       "      <th>Soil_Type15</th>\n",
       "      <th>Soil_Type16</th>\n",
       "      <th>Soil_Type17</th>\n",
       "      <th>Soil_Type18</th>\n",
       "      <th>Soil_Type19</th>\n",
       "      <th>Soil_Type20</th>\n",
       "      <th>Soil_Type21</th>\n",
       "      <th>Soil_Type22</th>\n",
       "      <th>Soil_Type23</th>\n",
       "      <th>Soil_Type24</th>\n",
       "      <th>Soil_Type25</th>\n",
       "      <th>Soil_Type26</th>\n",
       "      <th>Soil_Type27</th>\n",
       "      <th>Soil_Type28</th>\n",
       "      <th>Soil_Type29</th>\n",
       "      <th>Soil_Type30</th>\n",
       "      <th>Soil_Type31</th>\n",
       "      <th>Soil_Type32</th>\n",
       "      <th>Soil_Type33</th>\n",
       "      <th>Soil_Type34</th>\n",
       "      <th>Soil_Type35</th>\n",
       "      <th>Soil_Type36</th>\n",
       "      <th>Soil_Type37</th>\n",
       "      <th>Soil_Type38</th>\n",
       "      <th>Soil_Type39</th>\n",
       "      <th>Soil_Type40</th>\n",
       "      <th>Cover_Type</th>\n",
       "    </tr>\n",
       "  </thead>\n",
       "  <tbody>\n",
       "    <tr>\n",
       "      <th>0</th>\n",
       "      <td>1</td>\n",
       "      <td>2596</td>\n",
       "      <td>51</td>\n",
       "      <td>3</td>\n",
       "      <td>258</td>\n",
       "      <td>0</td>\n",
       "      <td>510</td>\n",
       "      <td>221</td>\n",
       "      <td>232</td>\n",
       "      <td>148</td>\n",
       "      <td>6279</td>\n",
       "      <td>1</td>\n",
       "      <td>0</td>\n",
       "      <td>0</td>\n",
       "      <td>0</td>\n",
       "      <td>0</td>\n",
       "      <td>0</td>\n",
       "      <td>0</td>\n",
       "      <td>0</td>\n",
       "      <td>0</td>\n",
       "      <td>0</td>\n",
       "      <td>0</td>\n",
       "      <td>0</td>\n",
       "      <td>0</td>\n",
       "      <td>0</td>\n",
       "      <td>0</td>\n",
       "      <td>0</td>\n",
       "      <td>0</td>\n",
       "      <td>0</td>\n",
       "      <td>0</td>\n",
       "      <td>0</td>\n",
       "      <td>0</td>\n",
       "      <td>0</td>\n",
       "      <td>0</td>\n",
       "      <td>0</td>\n",
       "      <td>0</td>\n",
       "      <td>0</td>\n",
       "      <td>0</td>\n",
       "      <td>0</td>\n",
       "      <td>0</td>\n",
       "      <td>0</td>\n",
       "      <td>0</td>\n",
       "      <td>0</td>\n",
       "      <td>1</td>\n",
       "      <td>0</td>\n",
       "      <td>0</td>\n",
       "      <td>0</td>\n",
       "      <td>0</td>\n",
       "      <td>0</td>\n",
       "      <td>0</td>\n",
       "      <td>0</td>\n",
       "      <td>0</td>\n",
       "      <td>0</td>\n",
       "      <td>0</td>\n",
       "      <td>0</td>\n",
       "      <td>5</td>\n",
       "    </tr>\n",
       "    <tr>\n",
       "      <th>1</th>\n",
       "      <td>2</td>\n",
       "      <td>2590</td>\n",
       "      <td>56</td>\n",
       "      <td>2</td>\n",
       "      <td>212</td>\n",
       "      <td>-6</td>\n",
       "      <td>390</td>\n",
       "      <td>220</td>\n",
       "      <td>235</td>\n",
       "      <td>151</td>\n",
       "      <td>6225</td>\n",
       "      <td>1</td>\n",
       "      <td>0</td>\n",
       "      <td>0</td>\n",
       "      <td>0</td>\n",
       "      <td>0</td>\n",
       "      <td>0</td>\n",
       "      <td>0</td>\n",
       "      <td>0</td>\n",
       "      <td>0</td>\n",
       "      <td>0</td>\n",
       "      <td>0</td>\n",
       "      <td>0</td>\n",
       "      <td>0</td>\n",
       "      <td>0</td>\n",
       "      <td>0</td>\n",
       "      <td>0</td>\n",
       "      <td>0</td>\n",
       "      <td>0</td>\n",
       "      <td>0</td>\n",
       "      <td>0</td>\n",
       "      <td>0</td>\n",
       "      <td>0</td>\n",
       "      <td>0</td>\n",
       "      <td>0</td>\n",
       "      <td>0</td>\n",
       "      <td>0</td>\n",
       "      <td>0</td>\n",
       "      <td>0</td>\n",
       "      <td>0</td>\n",
       "      <td>0</td>\n",
       "      <td>0</td>\n",
       "      <td>0</td>\n",
       "      <td>1</td>\n",
       "      <td>0</td>\n",
       "      <td>0</td>\n",
       "      <td>0</td>\n",
       "      <td>0</td>\n",
       "      <td>0</td>\n",
       "      <td>0</td>\n",
       "      <td>0</td>\n",
       "      <td>0</td>\n",
       "      <td>0</td>\n",
       "      <td>0</td>\n",
       "      <td>0</td>\n",
       "      <td>5</td>\n",
       "    </tr>\n",
       "    <tr>\n",
       "      <th>2</th>\n",
       "      <td>3</td>\n",
       "      <td>2804</td>\n",
       "      <td>139</td>\n",
       "      <td>9</td>\n",
       "      <td>268</td>\n",
       "      <td>65</td>\n",
       "      <td>3180</td>\n",
       "      <td>234</td>\n",
       "      <td>238</td>\n",
       "      <td>135</td>\n",
       "      <td>6121</td>\n",
       "      <td>1</td>\n",
       "      <td>0</td>\n",
       "      <td>0</td>\n",
       "      <td>0</td>\n",
       "      <td>0</td>\n",
       "      <td>0</td>\n",
       "      <td>0</td>\n",
       "      <td>0</td>\n",
       "      <td>0</td>\n",
       "      <td>0</td>\n",
       "      <td>0</td>\n",
       "      <td>0</td>\n",
       "      <td>0</td>\n",
       "      <td>0</td>\n",
       "      <td>0</td>\n",
       "      <td>1</td>\n",
       "      <td>0</td>\n",
       "      <td>0</td>\n",
       "      <td>0</td>\n",
       "      <td>0</td>\n",
       "      <td>0</td>\n",
       "      <td>0</td>\n",
       "      <td>0</td>\n",
       "      <td>0</td>\n",
       "      <td>0</td>\n",
       "      <td>0</td>\n",
       "      <td>0</td>\n",
       "      <td>0</td>\n",
       "      <td>0</td>\n",
       "      <td>0</td>\n",
       "      <td>0</td>\n",
       "      <td>0</td>\n",
       "      <td>0</td>\n",
       "      <td>0</td>\n",
       "      <td>0</td>\n",
       "      <td>0</td>\n",
       "      <td>0</td>\n",
       "      <td>0</td>\n",
       "      <td>0</td>\n",
       "      <td>0</td>\n",
       "      <td>0</td>\n",
       "      <td>0</td>\n",
       "      <td>0</td>\n",
       "      <td>0</td>\n",
       "      <td>2</td>\n",
       "    </tr>\n",
       "    <tr>\n",
       "      <th>3</th>\n",
       "      <td>4</td>\n",
       "      <td>2785</td>\n",
       "      <td>155</td>\n",
       "      <td>18</td>\n",
       "      <td>242</td>\n",
       "      <td>118</td>\n",
       "      <td>3090</td>\n",
       "      <td>238</td>\n",
       "      <td>238</td>\n",
       "      <td>122</td>\n",
       "      <td>6211</td>\n",
       "      <td>1</td>\n",
       "      <td>0</td>\n",
       "      <td>0</td>\n",
       "      <td>0</td>\n",
       "      <td>0</td>\n",
       "      <td>0</td>\n",
       "      <td>0</td>\n",
       "      <td>0</td>\n",
       "      <td>0</td>\n",
       "      <td>0</td>\n",
       "      <td>0</td>\n",
       "      <td>0</td>\n",
       "      <td>0</td>\n",
       "      <td>0</td>\n",
       "      <td>0</td>\n",
       "      <td>0</td>\n",
       "      <td>0</td>\n",
       "      <td>0</td>\n",
       "      <td>0</td>\n",
       "      <td>0</td>\n",
       "      <td>0</td>\n",
       "      <td>0</td>\n",
       "      <td>0</td>\n",
       "      <td>0</td>\n",
       "      <td>0</td>\n",
       "      <td>0</td>\n",
       "      <td>0</td>\n",
       "      <td>0</td>\n",
       "      <td>0</td>\n",
       "      <td>0</td>\n",
       "      <td>0</td>\n",
       "      <td>0</td>\n",
       "      <td>0</td>\n",
       "      <td>1</td>\n",
       "      <td>0</td>\n",
       "      <td>0</td>\n",
       "      <td>0</td>\n",
       "      <td>0</td>\n",
       "      <td>0</td>\n",
       "      <td>0</td>\n",
       "      <td>0</td>\n",
       "      <td>0</td>\n",
       "      <td>0</td>\n",
       "      <td>0</td>\n",
       "      <td>2</td>\n",
       "    </tr>\n",
       "    <tr>\n",
       "      <th>4</th>\n",
       "      <td>5</td>\n",
       "      <td>2595</td>\n",
       "      <td>45</td>\n",
       "      <td>2</td>\n",
       "      <td>153</td>\n",
       "      <td>-1</td>\n",
       "      <td>391</td>\n",
       "      <td>220</td>\n",
       "      <td>234</td>\n",
       "      <td>150</td>\n",
       "      <td>6172</td>\n",
       "      <td>1</td>\n",
       "      <td>0</td>\n",
       "      <td>0</td>\n",
       "      <td>0</td>\n",
       "      <td>0</td>\n",
       "      <td>0</td>\n",
       "      <td>0</td>\n",
       "      <td>0</td>\n",
       "      <td>0</td>\n",
       "      <td>0</td>\n",
       "      <td>0</td>\n",
       "      <td>0</td>\n",
       "      <td>0</td>\n",
       "      <td>0</td>\n",
       "      <td>0</td>\n",
       "      <td>0</td>\n",
       "      <td>0</td>\n",
       "      <td>0</td>\n",
       "      <td>0</td>\n",
       "      <td>0</td>\n",
       "      <td>0</td>\n",
       "      <td>0</td>\n",
       "      <td>0</td>\n",
       "      <td>0</td>\n",
       "      <td>0</td>\n",
       "      <td>0</td>\n",
       "      <td>0</td>\n",
       "      <td>0</td>\n",
       "      <td>0</td>\n",
       "      <td>0</td>\n",
       "      <td>0</td>\n",
       "      <td>0</td>\n",
       "      <td>1</td>\n",
       "      <td>0</td>\n",
       "      <td>0</td>\n",
       "      <td>0</td>\n",
       "      <td>0</td>\n",
       "      <td>0</td>\n",
       "      <td>0</td>\n",
       "      <td>0</td>\n",
       "      <td>0</td>\n",
       "      <td>0</td>\n",
       "      <td>0</td>\n",
       "      <td>0</td>\n",
       "      <td>5</td>\n",
       "    </tr>\n",
       "  </tbody>\n",
       "</table>\n",
       "</div>"
      ],
      "text/plain": [
       "   Id  Elevation  Aspect  Slope  Horizontal_Distance_To_Hydrology  \\\n",
       "0   1       2596      51      3                               258   \n",
       "1   2       2590      56      2                               212   \n",
       "2   3       2804     139      9                               268   \n",
       "3   4       2785     155     18                               242   \n",
       "4   5       2595      45      2                               153   \n",
       "\n",
       "   Vertical_Distance_To_Hydrology  Horizontal_Distance_To_Roadways  \\\n",
       "0                               0                              510   \n",
       "1                              -6                              390   \n",
       "2                              65                             3180   \n",
       "3                             118                             3090   \n",
       "4                              -1                              391   \n",
       "\n",
       "   Hillshade_9am  Hillshade_Noon  Hillshade_3pm  \\\n",
       "0            221             232            148   \n",
       "1            220             235            151   \n",
       "2            234             238            135   \n",
       "3            238             238            122   \n",
       "4            220             234            150   \n",
       "\n",
       "   Horizontal_Distance_To_Fire_Points  Wilderness_Area1  Wilderness_Area2  \\\n",
       "0                                6279                 1                 0   \n",
       "1                                6225                 1                 0   \n",
       "2                                6121                 1                 0   \n",
       "3                                6211                 1                 0   \n",
       "4                                6172                 1                 0   \n",
       "\n",
       "   Wilderness_Area3  Wilderness_Area4  Soil_Type1  Soil_Type2  Soil_Type3  \\\n",
       "0                 0                 0           0           0           0   \n",
       "1                 0                 0           0           0           0   \n",
       "2                 0                 0           0           0           0   \n",
       "3                 0                 0           0           0           0   \n",
       "4                 0                 0           0           0           0   \n",
       "\n",
       "   Soil_Type4  Soil_Type5  Soil_Type6  Soil_Type7  Soil_Type8  Soil_Type9  \\\n",
       "0           0           0           0           0           0           0   \n",
       "1           0           0           0           0           0           0   \n",
       "2           0           0           0           0           0           0   \n",
       "3           0           0           0           0           0           0   \n",
       "4           0           0           0           0           0           0   \n",
       "\n",
       "   Soil_Type10  Soil_Type11  Soil_Type12  Soil_Type13  Soil_Type14  \\\n",
       "0            0            0            0            0            0   \n",
       "1            0            0            0            0            0   \n",
       "2            0            0            1            0            0   \n",
       "3            0            0            0            0            0   \n",
       "4            0            0            0            0            0   \n",
       "\n",
       "   Soil_Type15  Soil_Type16  Soil_Type17  Soil_Type18  Soil_Type19  \\\n",
       "0            0            0            0            0            0   \n",
       "1            0            0            0            0            0   \n",
       "2            0            0            0            0            0   \n",
       "3            0            0            0            0            0   \n",
       "4            0            0            0            0            0   \n",
       "\n",
       "   Soil_Type20  Soil_Type21  Soil_Type22  Soil_Type23  Soil_Type24  \\\n",
       "0            0            0            0            0            0   \n",
       "1            0            0            0            0            0   \n",
       "2            0            0            0            0            0   \n",
       "3            0            0            0            0            0   \n",
       "4            0            0            0            0            0   \n",
       "\n",
       "   Soil_Type25  Soil_Type26  Soil_Type27  Soil_Type28  Soil_Type29  \\\n",
       "0            0            0            0            0            1   \n",
       "1            0            0            0            0            1   \n",
       "2            0            0            0            0            0   \n",
       "3            0            0            0            0            0   \n",
       "4            0            0            0            0            1   \n",
       "\n",
       "   Soil_Type30  Soil_Type31  Soil_Type32  Soil_Type33  Soil_Type34  \\\n",
       "0            0            0            0            0            0   \n",
       "1            0            0            0            0            0   \n",
       "2            0            0            0            0            0   \n",
       "3            1            0            0            0            0   \n",
       "4            0            0            0            0            0   \n",
       "\n",
       "   Soil_Type35  Soil_Type36  Soil_Type37  Soil_Type38  Soil_Type39  \\\n",
       "0            0            0            0            0            0   \n",
       "1            0            0            0            0            0   \n",
       "2            0            0            0            0            0   \n",
       "3            0            0            0            0            0   \n",
       "4            0            0            0            0            0   \n",
       "\n",
       "   Soil_Type40  Cover_Type  \n",
       "0            0           5  \n",
       "1            0           5  \n",
       "2            0           2  \n",
       "3            0           2  \n",
       "4            0           5  "
      ]
     },
     "execution_count": 160,
     "metadata": {},
     "output_type": "execute_result"
    }
   ],
   "source": [
    "forests.head(5)"
   ]
  },
  {
   "cell_type": "markdown",
   "id": "e142afca-6f92-4283-b036-de8259b44df6",
   "metadata": {},
   "source": [
    "Now we have successfully added the column header and the dataset is ready for further processing."
   ]
  },
  {
   "cell_type": "markdown",
   "id": "aebde5d2-1882-438f-ab0f-9b71fea40017",
   "metadata": {},
   "source": [
    "There are over 15k samples to work with, and 54 features. The first column is an Id for each sample. The last column is the `Cover_Type` feature we aim to work on as mentioned on the UCI page for the dataset. "
   ]
  },
  {
   "cell_type": "markdown",
   "id": "177749b7-2ace-4197-9284-c4ef31285754",
   "metadata": {},
   "source": [
    "### Check for missing values"
   ]
  },
  {
   "cell_type": "markdown",
   "id": "14bff9b9-a3c6-4ee6-88e3-0ef255ded86f",
   "metadata": {},
   "source": [
    "Let's do a quick check to see if there are any missing values in any of our columns."
   ]
  },
  {
   "cell_type": "code",
   "execution_count": 135,
   "id": "9d554c6e-45a3-4103-9737-24c449e9e1a1",
   "metadata": {},
   "outputs": [
    {
     "data": {
      "text/plain": [
       "False    55\n",
       "dtype: int64"
      ]
     },
     "execution_count": 135,
     "metadata": {},
     "output_type": "execute_result"
    }
   ],
   "source": [
    "forests.isnull().any().value_counts()"
   ]
  },
  {
   "cell_type": "markdown",
   "id": "b2559cb1-4822-4ac3-8bbe-1506080052be",
   "metadata": {},
   "source": [
    "Since most of our features are binary, for these columns, it's not enough to simply check for missing values. To really verify that our dataset is complete, we need to know that each row has one and only one non-zero value in each set of binary columns.\n",
    "\n",
    "We can accomplish this relatively easily by separating those groups of binary features, and then sum over the values in the rows. Each row should only sum to 1 across each group of binary variables."
   ]
  },
  {
   "cell_type": "code",
   "execution_count": 136,
   "id": "43c1f2a8-6331-4325-afc7-9dd7d4520393",
   "metadata": {},
   "outputs": [
    {
     "data": {
      "text/plain": [
       "Index(['elevation', 'aspect', 'slope', 'horizontal_distance_to_hydrology',\n",
       "       'vertical_distance_to_hydrology', 'horizontal_distance_to_roadways',\n",
       "       'hillshade_9mm', 'hillshade_noon', 'hillshade_3pm',\n",
       "       'horizontal_distance_to_fire_points', 'wilderness_area_1',\n",
       "       'wilderness_area_2', 'wilderness_area_3', 'wilderness_area_4',\n",
       "       'soil_type1', 'soil_type2', 'soil_type3', 'soil_type4', 'soil_type5',\n",
       "       'soil_type6', 'soil_type7', 'soil_type8', 'soil_type9', 'soil_type10',\n",
       "       'soil_type11', 'soil_type12', 'soil_type13', 'soil_type14',\n",
       "       'soil_type15', 'soil_type16', 'soil_type17', 'soil_type18',\n",
       "       'soil_type19', 'soil_type20', 'soil_type21', 'soil_type22',\n",
       "       'soil_type23', 'soil_type24', 'soil_type25', 'soil_type26',\n",
       "       'soil_type27', 'soil_type28', 'soil_type29', 'soil_type30',\n",
       "       'soil_type31', 'soil_type32', 'soil_type33', 'soil_type34',\n",
       "       'soil_type35', 'soil_type36', 'soil_type37', 'soil_type38',\n",
       "       'soil_type39', 'soil_type40', 'cover_type'],\n",
       "      dtype='object')"
      ]
     },
     "execution_count": 136,
     "metadata": {},
     "output_type": "execute_result"
    }
   ],
   "source": [
    "forests.columns"
   ]
  },
  {
   "cell_type": "code",
   "execution_count": 137,
   "id": "8869386a-fa13-490a-b27f-72a324fb643e",
   "metadata": {},
   "outputs": [],
   "source": [
    "wilderness_areas = ['wilderness_area_1','wilderness_area_2', 'wilderness_area_3', 'wilderness_area_4']\n",
    "soil_types = ['soil_type1', 'soil_type2', 'soil_type3', 'soil_type4', 'soil_type5',\n",
    "       'soil_type6', 'soil_type7', 'soil_type8', 'soil_type9', 'soil_type10',\n",
    "       'soil_type11', 'soil_type12', 'soil_type13', 'soil_type14',\n",
    "       'soil_type15', 'soil_type16', 'soil_type17', 'soil_type18',\n",
    "       'soil_type19', 'soil_type20', 'soil_type21', 'soil_type22',\n",
    "       'soil_type23', 'soil_type24', 'soil_type25', 'soil_type26',\n",
    "       'soil_type27', 'soil_type28', 'soil_type29', 'soil_type30',\n",
    "       'soil_type31', 'soil_type32', 'soil_type33', 'soil_type34',\n",
    "       'soil_type35', 'soil_type36', 'soil_type37', 'soil_type38',\n",
    "       'soil_type39', 'soil_type40']"
   ]
  },
  {
   "cell_type": "code",
   "execution_count": 138,
   "id": "019b8eb8-688f-4cfd-bef8-36c625849d94",
   "metadata": {},
   "outputs": [
    {
     "name": "stdout",
     "output_type": "stream",
     "text": [
      "1    581012\n",
      "dtype: int64\n",
      "1    581012\n",
      "dtype: int64\n"
     ]
    }
   ],
   "source": [
    "print(forests[wilderness_areas].sum(axis=1).value_counts())\n",
    "print(forests[soil_types].sum(axis=1).value_counts())"
   ]
  },
  {
   "cell_type": "markdown",
   "id": "e2de1132-fac4-4325-80ca-303e18e18dc5",
   "metadata": {},
   "source": [
    "By summing across groups of binary columns in each row, and checking the `value_counts()` of the results, we see that there are only `1`s in the summations, no zeros or any other number. This means that each row corresponds to one and only one `Wilderness_Area` and `Soil_Type`. We  have now verified that our dataset is truely complete."
   ]
  },
  {
   "cell_type": "markdown",
   "id": "d2b0e8be-e504-417b-b76f-76ea740c6825",
   "metadata": {},
   "source": [
    "### Distribution of features"
   ]
  },
  {
   "cell_type": "markdown",
   "id": "c44612bb-a834-467f-ba9b-04f22791c7a7",
   "metadata": {},
   "source": [
    "Now that we have checked for missing values and found none, we can start exploring the data with some visualizations. Let's go ahead and look at the distributions in each feature. For the binary features, we can group by `Wilderness_Area` and `Soil_Type`."
   ]
  },
  {
   "cell_type": "markdown",
   "id": "64d76269-87a1-4ad3-aa47-4d8e639318c6",
   "metadata": {},
   "source": [
    "#### `Elevation`"
   ]
  },
  {
   "cell_type": "code",
   "execution_count": 140,
   "id": "7d072d6f-4dc9-4fb9-8354-fab9a3b03ffc",
   "metadata": {},
   "outputs": [
    {
     "data": {
      "image/png": "[encoded data removed]",
      "text/plain": [
       "<Figure size 360x360 with 1 Axes>"
      ]
     },
     "metadata": {
      "needs_background": "light"
     },
     "output_type": "display_data"
    },
    {
     "data": {
      "image/png": "[encoded data removed]",
      "text/plain": [
       "<Figure size 360x360 with 1 Axes>"
      ]
     },
     "metadata": {
      "needs_background": "light"
     },
     "output_type": "display_data"
    },
    {
     "data": {
      "image/png": "[encoded data removed]",
      "text/plain": [
       "<Figure size 360x360 with 1 Axes>"
      ]
     },
     "metadata": {
      "needs_background": "light"
     },
     "output_type": "display_data"
    }
   ],
   "source": [
    "for width in [5, 50, 100]:\n",
    "    sns.displot(data=forests, x='elevation', binwidth=width, kde=True)\n",
    "    plt.title('Elevation distribution, binwidth='+str(width))\n",
    "    plt.show()"
   ]
  },
  {
   "cell_type": "markdown",
   "id": "a41f6101-f9d8-4099-bfd4-86967cd72eca",
   "metadata": {},
   "source": [
    "Interestingly, the `Elevation` data is multimodal, with three peaks. It's important to change the histogram binning to make sure the number of peaks is truly a feature of the data and not the bin size.\n",
    "\n",
    "We can split the data by wilderness area to see if that helps explain the multimodal distribution."
   ]
  },
  {
   "cell_type": "code",
   "execution_count": 141,
   "id": "1a5b50a4-d3d7-4490-8e20-d64abc0cd642",
   "metadata": {},
   "outputs": [
    {
     "data": {
      "image/png": "[encoded data removed]",
      "text/plain": [
       "<Figure size 360x360 with 1 Axes>"
      ]
     },
     "metadata": {
      "needs_background": "light"
     },
     "output_type": "display_data"
    },
    {
     "data": {
      "image/png": "[encoded data removed]",
      "text/plain": [
       "<Figure size 360x360 with 1 Axes>"
      ]
     },
     "metadata": {
      "needs_background": "light"
     },
     "output_type": "display_data"
    },
    {
     "data": {
      "image/png": "[encoded data removed]",
      "text/plain": [
       "<Figure size 360x360 with 1 Axes>"
      ]
     },
     "metadata": {
      "needs_background": "light"
     },
     "output_type": "display_data"
    },
    {
     "data": {
      "image/png": "[encoded data removed]",
      "text/plain": [
       "<Figure size 360x360 with 1 Axes>"
      ]
     },
     "metadata": {
      "needs_background": "light"
     },
     "output_type": "display_data"
    }
   ],
   "source": [
    "for area in wilderness_areas:\n",
    "    sns.displot(data=forests[forests[area]==1], x='elevation', binwidth=50, kde=True)\n",
    "    plt.title('Elevation of samples in '+area)\n",
    "    plt.show()"
   ]
  },
  {
   "cell_type": "markdown",
   "id": "9946f68a-8b45-46b7-94f2-a0e468503bc2",
   "metadata": {},
   "source": [
    "#### `Aspect`"
   ]
  },
  {
   "cell_type": "markdown",
   "id": "317c82b3-b9cb-44cf-8497-71f05c766b8e",
   "metadata": {},
   "source": [
    "Next, let's look at the distribution of the `Aspect` column, which is measured in degrees."
   ]
  },
  {
   "cell_type": "code",
   "execution_count": null,
   "id": "90834211-d7ae-4648-80f9-d34abef1b19b",
   "metadata": {},
   "outputs": [],
   "source": []
  },
  {
   "cell_type": "markdown",
   "id": "001ae8bb-e149-4e49-9438-c9eaec896242",
   "metadata": {},
   "source": [
    "#### `Slope`"
   ]
  },
  {
   "cell_type": "markdown",
   "id": "70edfa25-0d07-4b7a-ba7a-53980f607a5d",
   "metadata": {},
   "source": [
    "Next, let's look at the distribution of the `Slope` column, which is measured in degrees."
   ]
  },
  {
   "cell_type": "code",
   "execution_count": null,
   "id": "d1298476-80cc-4532-a35d-7b32c429be52",
   "metadata": {},
   "outputs": [],
   "source": []
  },
  {
   "cell_type": "markdown",
   "id": "12d4cec4-c4eb-4e32-af72-9e814ba94706",
   "metadata": {},
   "source": [
    "#### `Horizontal_Distance_To_Hydrology`"
   ]
  },
  {
   "cell_type": "markdown",
   "id": "df8590e2-70fe-4bd3-a97c-61d194fa9824",
   "metadata": {},
   "source": [
    "Next, let's look at the distribution of the `Horizontal_Distance_To_Hydrology` column."
   ]
  },
  {
   "cell_type": "code",
   "execution_count": null,
   "id": "eaf22fb1-3603-401f-8cf2-6aa58f73e00d",
   "metadata": {},
   "outputs": [],
   "source": []
  },
  {
   "cell_type": "markdown",
   "id": "9c902f77-abc0-4be4-8653-2629472fc1c1",
   "metadata": {},
   "source": [
    "#### `Vertical_Distance_To_Hydrology`"
   ]
  },
  {
   "cell_type": "markdown",
   "id": "c70e16df-6452-4f62-a450-0a3394ea16ea",
   "metadata": {},
   "source": [
    "Next, let's look at the distribution of the `Vertical_Distance_To_Hydrology` column."
   ]
  },
  {
   "cell_type": "code",
   "execution_count": null,
   "id": "07fe41da-9981-4fb3-91b7-79846b1c6caf",
   "metadata": {},
   "outputs": [],
   "source": []
  },
  {
   "cell_type": "markdown",
   "id": "8b0599da-7488-43b7-af83-1bfb9e666ea4",
   "metadata": {},
   "source": [
    "#### `Horizontal_Distance_To_Roadways`"
   ]
  },
  {
   "cell_type": "markdown",
   "id": "2e7173de-1204-4d3f-943d-6050f7b0b713",
   "metadata": {},
   "source": [
    "Next, let's look at the distribution of the `Horizontal_Distance_To_Roadways` column."
   ]
  },
  {
   "cell_type": "code",
   "execution_count": null,
   "id": "c3c4f9b6-e827-4da6-9daa-7be55c405675",
   "metadata": {},
   "outputs": [],
   "source": []
  },
  {
   "cell_type": "markdown",
   "id": "0c437155-5354-4869-ae7a-47c3b247bfc4",
   "metadata": {},
   "source": [
    "#### `Hillshade_9am`"
   ]
  },
  {
   "cell_type": "markdown",
   "id": "5e0887c0-3299-4031-96b1-ac0cb3eb1580",
   "metadata": {},
   "source": [
    "Next, let's look at the distribution of the `Hillshade_9am` column."
   ]
  },
  {
   "cell_type": "code",
   "execution_count": null,
   "id": "43ce677c-c478-4e3e-836d-d513b4c4e1a6",
   "metadata": {},
   "outputs": [],
   "source": []
  },
  {
   "cell_type": "markdown",
   "id": "8663463a-ece1-4413-aa5e-c425711be273",
   "metadata": {},
   "source": [
    "#### `Hillshade_Noon`"
   ]
  },
  {
   "cell_type": "markdown",
   "id": "d02fca1d-b44e-498d-b266-fcde24c9846c",
   "metadata": {},
   "source": [
    "Next, let's look at the distribution of the `Hillshade_Noon` column."
   ]
  },
  {
   "cell_type": "code",
   "execution_count": null,
   "id": "b4a0ab89-f459-471a-8f7f-012fbc7d7c53",
   "metadata": {},
   "outputs": [],
   "source": []
  },
  {
   "cell_type": "markdown",
   "id": "d0ee1542-54df-4643-b09f-2e8917f27df8",
   "metadata": {},
   "source": [
    "#### `Hillshade_3pm`"
   ]
  },
  {
   "cell_type": "markdown",
   "id": "1266a586-904b-4189-bb26-78916215e16f",
   "metadata": {},
   "source": [
    "Next, let's look at the distribution of the `Hillshade_3pm` column."
   ]
  },
  {
   "cell_type": "code",
   "execution_count": null,
   "id": "9930f1b8-7c22-40a2-9b70-814dbf947676",
   "metadata": {},
   "outputs": [],
   "source": []
  },
  {
   "cell_type": "markdown",
   "id": "25889db8-0512-431c-9697-14e60a6c19d6",
   "metadata": {},
   "source": [
    "#### `Horizontal_Distance_To_Fire_Points`"
   ]
  },
  {
   "cell_type": "markdown",
   "id": "93319564-dbbf-4b28-ad0f-a0ed710031be",
   "metadata": {},
   "source": [
    "Next, let's look at the distribution of the `Horizontal_Distance_To_Fire_Points` column."
   ]
  },
  {
   "cell_type": "code",
   "execution_count": null,
   "id": "212baf4c-91dd-4cc2-b086-415808946ee2",
   "metadata": {},
   "outputs": [],
   "source": []
  },
  {
   "cell_type": "markdown",
   "id": "9ef2dec0-e4de-437c-9f5e-56e1925ce8d8",
   "metadata": {},
   "source": [
    "#### Wilderness Area"
   ]
  },
  {
   "cell_type": "markdown",
   "id": "03b5071f-199d-4dc7-8bb8-b584d587f5fe",
   "metadata": {},
   "source": [
    "Next, let's look at the distribution of the wilderness area columns. Since these are binary columns, we can use the `.sum()` method to see how many samples are in each wilderness area."
   ]
  },
  {
   "cell_type": "code",
   "execution_count": 143,
   "id": "3ac70324-8bae-4957-a371-1583c1fab7cb",
   "metadata": {},
   "outputs": [
    {
     "data": {
      "text/html": [
       "<div>\n",
       "<style scoped>\n",
       "    .dataframe tbody tr th:only-of-type {\n",
       "        vertical-align: middle;\n",
       "    }\n",
       "\n",
       "    .dataframe tbody tr th {\n",
       "        vertical-align: top;\n",
       "    }\n",
       "\n",
       "    .dataframe thead th {\n",
       "        text-align: right;\n",
       "    }\n",
       "</style>\n",
       "<table border=\"1\" class=\"dataframe\">\n",
       "  <thead>\n",
       "    <tr style=\"text-align: right;\">\n",
       "      <th></th>\n",
       "      <th>Area</th>\n",
       "      <th>Count</th>\n",
       "      <th>Percent</th>\n",
       "    </tr>\n",
       "  </thead>\n",
       "  <tbody>\n",
       "    <tr>\n",
       "      <th>0</th>\n",
       "      <td>wilderness_area_1</td>\n",
       "      <td>260796</td>\n",
       "      <td>0.448865</td>\n",
       "    </tr>\n",
       "    <tr>\n",
       "      <th>1</th>\n",
       "      <td>wilderness_area_2</td>\n",
       "      <td>29884</td>\n",
       "      <td>0.051434</td>\n",
       "    </tr>\n",
       "    <tr>\n",
       "      <th>2</th>\n",
       "      <td>wilderness_area_3</td>\n",
       "      <td>253364</td>\n",
       "      <td>0.436074</td>\n",
       "    </tr>\n",
       "    <tr>\n",
       "      <th>3</th>\n",
       "      <td>wilderness_area_4</td>\n",
       "      <td>36968</td>\n",
       "      <td>0.063627</td>\n",
       "    </tr>\n",
       "  </tbody>\n",
       "</table>\n",
       "</div>"
      ],
      "text/plain": [
       "                Area   Count   Percent\n",
       "0  wilderness_area_1  260796  0.448865\n",
       "1  wilderness_area_2   29884  0.051434\n",
       "2  wilderness_area_3  253364  0.436074\n",
       "3  wilderness_area_4   36968  0.063627"
      ]
     },
     "metadata": {},
     "output_type": "display_data"
    },
    {
     "data": {
      "image/png": "[encoded data removed]",
      "text/plain": [
       "<Figure size 720x444.994 with 1 Axes>"
      ]
     },
     "metadata": {
      "needs_background": "light"
     },
     "output_type": "display_data"
    }
   ],
   "source": [
    "wilderness_area_df = forests[wilderness_areas].sum().reset_index().rename(columns={'index': 'Area', 0:'Count'})\n",
    "wilderness_area_df['Percent'] = wilderness_area_df['Count']/len(forests)\n",
    "display(wilderness_area_df)\n",
    "\n",
    "sns.barplot(data=wilderness_area_df, x='Area', y='Count')\n",
    "plt.title('Number of samples in each wilderness area')\n",
    "plt.show()"
   ]
  },
  {
   "cell_type": "markdown",
   "id": "151e9a30-76a2-4fd7-88f9-60b7616b57a3",
   "metadata": {},
   "source": [
    "It appears that the wilderness area with the most samples is `Wilderness_Area3` (Comanche Peak Wilderness Area) with about 42% of the samples and the area with the least samples is `Wilderness_Area2` (Neota Wilderness Area) with about 3.3% of the samples."
   ]
  },
  {
   "cell_type": "markdown",
   "id": "c2e7adc8-503b-48a4-8a92-1d1614f5dd54",
   "metadata": {},
   "source": [
    "#### Soil Type"
   ]
  },
  {
   "cell_type": "code",
   "execution_count": null,
   "id": "8f5c7d36-d0b4-44fe-9804-fb09be73b810",
   "metadata": {},
   "outputs": [],
   "source": []
  },
  {
   "cell_type": "code",
   "execution_count": null,
   "id": "9b622c45-1a90-44bf-829d-e3801a7c6f71",
   "metadata": {},
   "outputs": [],
   "source": []
  },
  {
   "cell_type": "markdown",
   "id": "b1a0845f-9d41-46f0-b011-8436acd4bff5",
   "metadata": {},
   "source": [
    "## Data preprocessing"
   ]
  },
  {
   "cell_type": "markdown",
   "id": "693e6cdd-2d52-48dd-86a4-2327e5112d99",
   "metadata": {},
   "source": [
    "Since our dataset only consists of numeric data, we don't need to worry about making dummy variable for the categorical data (they are already dummy variable). We just need to worry about the _scale_ of different numeric features. We saw in our EDA section above that variables like `Elevation` and `Horizontal_Distance_To_Hydrology` have large scales compared to features like `Aspect` and `Slope`. These are in turn much larger than the scale of the binary variables. Also, we saw that with the non-binary features, there were not large outliers. This makes those features perfect candidates for _min-max normalization_."
   ]
  },
  {
   "cell_type": "markdown",
   "id": "2ab075c4-07ed-445d-a44d-a0101b900535",
   "metadata": {},
   "source": [
    "### Min-Max Normalization"
   ]
  },
  {
   "cell_type": "markdown",
   "id": "a0ff3acf-4ee1-4cfe-9905-f73e3b0c38c6",
   "metadata": {},
   "source": [
    "Our binary features already have ranges from zero to one. We can use Min-Max normalization to bring the other numeric features into unit range as well. This can be accomplished with the equation:\n",
    "$$ x_{\\rm norm} = \\frac{x - x_{\\rm min}}{x_{\\rm max}-x_{\\rm min}}$$\n",
    "\n",
    "We can loop over the non-binary columns and apply this formula with a `lambda` function to normalize the data."
   ]
  },
  {
   "cell_type": "markdown",
   "id": "c439c604-2b70-468e-8355-4310bd625de8",
   "metadata": {},
   "source": [
    "First, let's define a list of the columns we need to normalize. These should not include the binary wilderness area columns listed in `wilderness_areas` nor the soil type columns listed in `soil_types`. They should also not include the `Id` or `Cover_Type` columns either since the `Id` column is just the sample identification, and the `Cover_Type` column is the response category we wish to predict. Although the `Id` column was only found in the Kaggle Data it shouldn't be an issue here."
   ]
  },
  {
   "cell_type": "code",
   "execution_count": 152,
   "id": "21aaed70-11ea-4041-a02d-f24a5a122921",
   "metadata": {},
   "outputs": [
    {
     "name": "stdout",
     "output_type": "stream",
     "text": [
      "['elevation', 'aspect', 'slope', 'horizontal_distance_to_hydrology', 'vertical_distance_to_hydrology', 'horizontal_distance_to_roadways', 'hillshade_9mm', 'hillshade_noon', 'hillshade_3pm', 'horizontal_distance_to_fire_points']\n"
     ]
    }
   ],
   "source": [
    "columns_to_normalize = [col for col in forests.columns \n",
    "                        if col not in wilderness_areas \n",
    "                        and col not in soil_types  \n",
    "                        and col != 'cover_type']\n",
    "\n",
    "print(columns_to_normalize)"
   ]
  },
  {
   "cell_type": "markdown",
   "id": "d80dd51c-9023-4d8f-aaa2-e79b2cd66e2f",
   "metadata": {},
   "source": [
    "Now that we have our list, we can loop over the columns to normalize them. First, let's make a deep copy of our dataset which we will modify, so that we do not need to reload the original data if we wish to access it."
   ]
  },
  {
   "cell_type": "code",
   "execution_count": 153,
   "id": "744687c8-4114-4f47-b499-5f13fd984432",
   "metadata": {},
   "outputs": [
    {
     "name": "stdout",
     "output_type": "stream",
     "text": [
      "Min, max before normalization: 1859, 3858\n",
      "Min, max after normalization: 0.0, 1.0\n",
      "Min, max before normalization: 0, 360\n",
      "Min, max after normalization: 0.0, 1.0\n",
      "Min, max before normalization: 0, 66\n",
      "Min, max after normalization: 0.0, 1.0\n",
      "Min, max before normalization: 0, 1397\n",
      "Min, max after normalization: 0.0, 1.0\n",
      "Min, max before normalization: -173, 601\n",
      "Min, max after normalization: 0.0, 1.0\n",
      "Min, max before normalization: 0, 7117\n",
      "Min, max after normalization: 0.0, 1.0\n",
      "Min, max before normalization: 0, 254\n",
      "Min, max after normalization: 0.0, 1.0\n",
      "Min, max before normalization: 0, 254\n",
      "Min, max after normalization: 0.0, 1.0\n",
      "Min, max before normalization: 0, 254\n",
      "Min, max after normalization: 0.0, 1.0\n",
      "Min, max before normalization: 0, 7173\n",
      "Min, max after normalization: 0.0, 1.0\n"
     ]
    }
   ],
   "source": [
    "forests_normed = forests.copy(deep=True)\n",
    "\n",
    "for col in columns_to_normalize:\n",
    "    col_min = forests_normed[col].min()\n",
    "    col_max = forests_normed[col].max()\n",
    "    print('Min, max before normalization: {}, {}'.format(col_min, col_max))\n",
    "    forests_normed[col] = forests_normed[col].apply(lambda x: (x - col_min)/(col_max - col_min))\n",
    "    col_min = forests_normed[col].min()\n",
    "    col_max = forests_normed[col].max()\n",
    "    print('Min, max after normalization: {}, {}'.format(col_min, col_max))"
   ]
  },
  {
   "cell_type": "markdown",
   "id": "78d61727-f01a-4db1-bf86-66dcc642b7da",
   "metadata": {},
   "source": [
    "### Split the data into training and validation sets"
   ]
  },
  {
   "cell_type": "markdown",
   "id": "a94ed013-1b98-4387-a463-8b1c8b458a79",
   "metadata": {},
   "source": [
    "Now that our preprocessed data is contained in the `forests_normed` dataframe, we are all set to start building models. First, we need to split the data into training and testing data sets."
   ]
  },
  {
   "cell_type": "markdown",
   "id": "42b4d50e-9f34-4662-922e-c73d99a0b67c",
   "metadata": {},
   "source": [
    "#### Check response label imbalance"
   ]
  },
  {
   "cell_type": "markdown",
   "id": "a80df49f-9c23-4e6b-a948-c5f87b90bfbd",
   "metadata": {},
   "source": [
    "Before we split our data, we need to see how our response feature, `Cover_Type` is distributed to determine if the data is balanced or not."
   ]
  },
  {
   "cell_type": "code",
   "execution_count": 168,
   "id": "c00375db-a1f6-4de8-b370-eeac4ffa00ac",
   "metadata": {},
   "outputs": [
    {
     "data": {
      "text/plain": [
       "2    283301\n",
       "1    211840\n",
       "3     35754\n",
       "7     20510\n",
       "6     17367\n",
       "5      9493\n",
       "4      2747\n",
       "Name: cover_type, dtype: int64"
      ]
     },
     "execution_count": 168,
     "metadata": {},
     "output_type": "execute_result"
    }
   ],
   "source": [
    "forests_normed['cover_type'].value_counts()"
   ]
  },
  {
   "cell_type": "markdown",
   "id": "35add544-e1cd-4146-a200-b84d86740bf3",
   "metadata": {},
   "source": [
    "It looks like our data is `not evenly divided` into the different classes of our response variable! This means `we do need to worry about our data being imbalanced`."
   ]
  }
 ],
 "metadata": {
  "kernelspec": {
   "display_name": "Python 3 (ipykernel)",
   "language": "python",
   "name": "python3"
  },
  "language_info": {
   "codemirror_mode": {
    "name": "ipython",
    "version": 3
   },
   "file_extension": ".py",
   "mimetype": "text/x-python",
   "name": "python",
   "nbconvert_exporter": "python",
   "pygments_lexer": "ipython3",
   "version": "3.9.7"
  }
 },
 "nbformat": 4,
 "nbformat_minor": 5
}
